{
 "cells": [
  {
   "cell_type": "markdown",
   "id": "ccac7335",
   "metadata": {},
   "source": [
    "<h1>Identifiers</h1>\n",
    "<p>\n",
    "Allowed symbols are\n",
    "<ul>\n",
    "    <li>a-z</li>\n",
    "    <li>A-Z</li>\n",
    "    <li>0-9</li>\n",
    "    <li>_</li>\n",
    "</ul>\n",
    "</p>"
   ]
  },
  {
   "cell_type": "markdown",
   "id": "8302028e",
   "metadata": {},
   "source": [
    "Identifiers should not start with digits"
   ]
  },
  {
   "cell_type": "markdown",
   "id": "c86875c0",
   "metadata": {},
   "source": [
    "There is no length limit for python identifier"
   ]
  },
  {
   "cell_type": "markdown",
   "id": "73fabb5e",
   "metadata": {},
   "source": [
    "<ul>\n",
    "    <li>any variable starting with _ like _x is treated as protected variable</li>\n",
    "    <li>any variable starting with 2 underscores __ like __x is treated as private variable</li>\n",
    "    <li>any variable starting with 2 underscores and ending with 2 underscores like __x__ is \n",
    "    a magic variable. These are language specific predefined variables. __name__</li>\n",
    "</ul>"
   ]
  },
  {
   "cell_type": "markdown",
   "id": "8eb8c92f",
   "metadata": {},
   "source": [
    "<h3>Reserved words in Python</h3>\n",
    "<ul>\n",
    "    <li>True, False, None</li>\n",
    "    <li>and, or, not, is</li>\n",
    "    <li>if, elif, else</li>\n",
    "    <li>while, for, break, continue, return, in, yield</li>\n",
    "    <li>try, except, finally, raise, assert</li>\n",
    "    <li>import, from, as, class, def, pass</li>\n",
    "    <li>global, nonlocal, lambda, del, with</li>\n",
    "</ul>"
   ]
  },
  {
   "cell_type": "markdown",
   "id": "5a83faea",
   "metadata": {},
   "source": [
    "Python has 33 reserved keywords"
   ]
  },
  {
   "cell_type": "code",
   "execution_count": 12,
   "id": "11f4f610",
   "metadata": {},
   "outputs": [
    {
     "data": {
      "text/plain": [
       "['False',\n",
       " 'None',\n",
       " 'True',\n",
       " 'and',\n",
       " 'as',\n",
       " 'assert',\n",
       " 'async',\n",
       " 'await',\n",
       " 'break',\n",
       " 'class',\n",
       " 'continue',\n",
       " 'def',\n",
       " 'del',\n",
       " 'elif',\n",
       " 'else',\n",
       " 'except',\n",
       " 'finally',\n",
       " 'for',\n",
       " 'from',\n",
       " 'global',\n",
       " 'if',\n",
       " 'import',\n",
       " 'in',\n",
       " 'is',\n",
       " 'lambda',\n",
       " 'nonlocal',\n",
       " 'not',\n",
       " 'or',\n",
       " 'pass',\n",
       " 'raise',\n",
       " 'return',\n",
       " 'try',\n",
       " 'while',\n",
       " 'with',\n",
       " 'yield']"
      ]
     },
     "execution_count": 12,
     "metadata": {},
     "output_type": "execute_result"
    }
   ],
   "source": [
    "import keyword\n",
    "keyword.kwlist"
   ]
  },
  {
   "cell_type": "markdown",
   "id": "a32b2bf5",
   "metadata": {},
   "source": [
    "<h3>Datatypes in Python</h3>"
   ]
  },
  {
   "cell_type": "markdown",
   "id": "509a339c",
   "metadata": {},
   "source": [
    "Python is a dynamically typed programming language. The type assigment happens at runtime.\n",
    "<br>Java, C, C++ are all statically typed progamming language."
   ]
  },
  {
   "cell_type": "markdown",
   "id": "9e289f73",
   "metadata": {},
   "source": [
    "Different datatypes available in Python"
   ]
  },
  {
   "cell_type": "markdown",
   "id": "bc106249",
   "metadata": {},
   "source": [
    "<ul>\n",
    "    <li>int</li>\n",
    "    <li>float</li>\n",
    "    <li>complex</li>\n",
    "    <li>bool</li>\n",
    "    <li>str</li>\n",
    "</ul>\n",
    "<ul>\n",
    "    <li>list</li>\n",
    "    <li>tuple</li>\n",
    "    <li>set</li>\n",
    "    <li>frozenset</li>\n",
    "    <li>dict</li>\n",
    "</ul>\n",
    "<ul>\n",
    "    <li>bytes</li>\n",
    "    <li>bytearray</li>\n",
    "    <li>range</li>\n",
    "    <li>None</li>\n",
    "</ul>"
   ]
  },
  {
   "cell_type": "markdown",
   "id": "b0480fe5",
   "metadata": {},
   "source": [
    "<font style=\"color:red\">Everything in Python is considered as an Object</font>"
   ]
  },
  {
   "cell_type": "markdown",
   "id": "184b7450",
   "metadata": {},
   "source": [
    "In Java we have primitive types and object types.\n",
    "<br>But in Python, everything is considered as an object."
   ]
  },
  {
   "cell_type": "markdown",
   "id": "fa8b6aff",
   "metadata": {},
   "source": [
    "- To know the type of a variable in Python, use the inbuilt function type()\n",
    "- To know the memory address where this variable object has been created use id()"
   ]
  },
  {
   "cell_type": "code",
   "execution_count": 13,
   "id": "a14083d1",
   "metadata": {},
   "outputs": [
    {
     "name": "stdout",
     "output_type": "stream",
     "text": [
      "<class 'int'>\n"
     ]
    }
   ],
   "source": [
    "a = 10\n",
    "print(type(a))"
   ]
  },
  {
   "cell_type": "code",
   "execution_count": 14,
   "id": "d1346e3a",
   "metadata": {},
   "outputs": [
    {
     "name": "stdout",
     "output_type": "stream",
     "text": [
      "140729697446616\n"
     ]
    }
   ],
   "source": [
    "print(id(a))"
   ]
  },
  {
   "cell_type": "markdown",
   "id": "83d268f8",
   "metadata": {},
   "source": [
    "<h3>int datatype</h3>"
   ]
  },
  {
   "cell_type": "markdown",
   "id": "0db7646f",
   "metadata": {},
   "source": [
    "<strong>Note:</strong>In Python 2 - To represent a very long integer number there is a <font style=\"color:red\">long</font> datatype.\n",
    "<br>In Python 3 - a very long integer value can be represented by int datatype\n",
    "<br>long datatype is not availble in Python 3"
   ]
  },
  {
   "cell_type": "code",
   "execution_count": 15,
   "id": "27a5f7e7",
   "metadata": {},
   "outputs": [
    {
     "name": "stdout",
     "output_type": "stream",
     "text": [
      "<class 'int'>\n"
     ]
    }
   ],
   "source": [
    "very_long_value = 123456789012345678901234567890123456789012345678901234567890\n",
    "print(type(very_long_value))"
   ]
  },
  {
   "cell_type": "markdown",
   "id": "efc28d48",
   "metadata": {},
   "source": [
    "Different ways to represent an integer value\n",
    "- decimal form (base 10)\n",
    "- binary form (base 2)\n",
    "- octal form (base 8)\n",
    "- hexadecimal form (base 16)"
   ]
  },
  {
   "cell_type": "markdown",
   "id": "d239a76c",
   "metadata": {},
   "source": [
    "|form|allowed values|\n",
    "|----|--------------|\n",
    "|decimal|0 - 9|\n",
    "|base| 0, 1|\n",
    "|octal|0-7|\n",
    "|hexadecimal|0-9, aA-fF| \n"
   ]
  },
  {
   "cell_type": "markdown",
   "id": "656ad261",
   "metadata": {},
   "source": [
    "decimal system is the default number system unless you tell Python to treat it otherwise"
   ]
  },
  {
   "cell_type": "markdown",
   "id": "717f9a50",
   "metadata": {},
   "source": [
    "Representing a binary number\n",
    "- prefix using 0b or 0B"
   ]
  },
  {
   "cell_type": "code",
   "execution_count": 16,
   "id": "c8e7c927",
   "metadata": {},
   "outputs": [
    {
     "name": "stdout",
     "output_type": "stream",
     "text": [
      "15\n"
     ]
    }
   ],
   "source": [
    "binary_number = 0b1111\n",
    "print(binary_number)"
   ]
  },
  {
   "cell_type": "markdown",
   "id": "71d64820",
   "metadata": {},
   "source": [
    "Representing a Octal number\n",
    "- prefix using 0o or 0O\n"
   ]
  },
  {
   "cell_type": "code",
   "execution_count": 17,
   "id": "e1dd1227",
   "metadata": {},
   "outputs": [
    {
     "name": "stdout",
     "output_type": "stream",
     "text": [
      "668\n"
     ]
    }
   ],
   "source": [
    "octal_number = 0o1234\n",
    "print(octal_number)"
   ]
  },
  {
   "cell_type": "markdown",
   "id": "9fc39104",
   "metadata": {},
   "source": [
    "Representing a hexadecimal number\n",
    "- prefix using 0x or 0X"
   ]
  },
  {
   "cell_type": "code",
   "execution_count": 18,
   "id": "a5e8171d",
   "metadata": {},
   "outputs": [
    {
     "name": "stdout",
     "output_type": "stream",
     "text": [
      "10\n"
     ]
    }
   ],
   "source": [
    "hexa_number = 0xA\n",
    "print(hexa_number)"
   ]
  },
  {
   "cell_type": "code",
   "execution_count": 19,
   "id": "27e69a2f",
   "metadata": {},
   "outputs": [
    {
     "name": "stdout",
     "output_type": "stream",
     "text": [
      "15\n"
     ]
    }
   ],
   "source": [
    "hexa_number = 0xf\n",
    "print(hexa_number)"
   ]
  },
  {
   "cell_type": "markdown",
   "id": "7c3eb0af",
   "metadata": {},
   "source": [
    "In hexadecimal - a to f, or A to F (both cases are allowed)"
   ]
  },
  {
   "cell_type": "code",
   "execution_count": 20,
   "id": "7c4598ea",
   "metadata": {},
   "outputs": [
    {
     "name": "stdout",
     "output_type": "stream",
     "text": [
      "64206\n"
     ]
    }
   ],
   "source": [
    "hexa_number = 0xface\n",
    "print(hexa_number)"
   ]
  },
  {
   "cell_type": "markdown",
   "id": "675d7ad7",
   "metadata": {},
   "source": [
    "<font style=\"color:red\">By default Python VM always prints the output in decimal format.</font>\n",
    "<br>If you want the output in binary or octal form, then we have <strong>Base conversion functions</strong>"
   ]
  },
  {
   "cell_type": "code",
   "execution_count": null,
   "id": "118acf09",
   "metadata": {},
   "outputs": [],
   "source": []
  }
 ],
 "metadata": {
  "kernelspec": {
   "display_name": "Python 3",
   "language": "python",
   "name": "python3"
  },
  "language_info": {
   "codemirror_mode": {
    "name": "ipython",
    "version": 3
   },
   "file_extension": ".py",
   "mimetype": "text/x-python",
   "name": "python",
   "nbconvert_exporter": "python",
   "pygments_lexer": "ipython3",
   "version": "3.12.8"
  }
 },
 "nbformat": 4,
 "nbformat_minor": 5
}
