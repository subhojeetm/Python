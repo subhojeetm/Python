{
 "cells": [
  {
   "cell_type": "markdown",
   "id": "ccac7335",
   "metadata": {},
   "source": [
    "<h1>Identifiers</h1>\n",
    "<p>\n",
    "Allowed symbols are\n",
    "<ul>\n",
    "    <li>a-z</li>\n",
    "    <li>A-Z</li>\n",
    "    <li>0-9</li>\n",
    "    <li>_</li>\n",
    "</ul>\n",
    "</p>"
   ]
  },
  {
   "cell_type": "markdown",
   "id": "8302028e",
   "metadata": {},
   "source": [
    "Identifiers should not start with digits"
   ]
  },
  {
   "cell_type": "markdown",
   "id": "c86875c0",
   "metadata": {},
   "source": [
    "There is no length limit for python identifier"
   ]
  },
  {
   "cell_type": "markdown",
   "id": "73fabb5e",
   "metadata": {},
   "source": [
    "<ul>\n",
    "    <li>any variable starting with _ like _x is treated as protected variable</li>\n",
    "    <li>any variable starting with 2 underscores __ like __x is treated as private variable</li>\n",
    "    <li>any variable starting with 2 underscores and ending with 2 underscores like __x__ is \n",
    "    a magic variable. These are language specific predefined variables. __name__</li>\n",
    "</ul>"
   ]
  },
  {
   "cell_type": "markdown",
   "id": "8eb8c92f",
   "metadata": {},
   "source": [
    "<h3>Reserved words in Python</h3>\n",
    "<ul>\n",
    "    <li>True, False, None</li>\n",
    "    <li>and, or, not, is</li>\n",
    "    <li>if, elif, else</li>\n",
    "    <li>while, for, break, continue, return, in, yield</li>\n",
    "    <li>try, except, finally, raise, assert</li>\n",
    "    <li>import, from, as, class, def, pass</li>\n",
    "    <li>global, nonlocal, lambda, del, with</li>\n",
    "</ul>"
   ]
  },
  {
   "cell_type": "markdown",
   "id": "5a83faea",
   "metadata": {},
   "source": [
    "Python has 33 reserved keywords"
   ]
  },
  {
   "cell_type": "markdown",
   "id": "509a339c",
   "metadata": {},
   "source": []
  }
 ],
 "metadata": {
  "kernelspec": {
   "display_name": "Python 3",
   "language": "python",
   "name": "python3"
  },
  "language_info": {
   "name": "python",
   "version": "3.12.8"
  }
 },
 "nbformat": 4,
 "nbformat_minor": 5
}
